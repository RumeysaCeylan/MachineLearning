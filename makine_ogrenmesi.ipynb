{
  "nbformat": 4,
  "nbformat_minor": 0,
  "metadata": {
    "colab": {
      "provenance": [],
      "collapsed_sections": [],
      "authorship_tag": "ABX9TyOQIPWOEbkfVwltF69TYgwt",
      "include_colab_link": true
    },
    "kernelspec": {
      "name": "python3",
      "display_name": "Python 3"
    },
    "language_info": {
      "name": "python"
    }
  },
  "cells": [
    {
      "cell_type": "markdown",
      "metadata": {
        "id": "view-in-github",
        "colab_type": "text"
      },
      "source": [
        "<a href=\"https://colab.research.google.com/github/RumeysaCeylan/MachineLearning/blob/main/makine_ogrenmesi.ipynb\" target=\"_parent\"><img src=\"https://colab.research.google.com/assets/colab-badge.svg\" alt=\"Open In Colab\"/></a>"
      ]
    },
    {
      "cell_type": "markdown",
      "source": [
        "1)probleme genel bakış\n",
        "\n",
        "2)veriyi toplamak\n"
      ],
      "metadata": {
        "id": "iYFyeNaLx-0Q"
      }
    },
    {
      "cell_type": "code",
      "execution_count": 55,
      "metadata": {
        "id": "JDPkvUt_gSkU"
      },
      "outputs": [],
      "source": [
        "import pandas as pd"
      ]
    },
    {
      "cell_type": "code",
      "source": [
        "df = pd.read_csv(\"score.csv\")"
      ],
      "metadata": {
        "id": "kV86MCbNyLLf"
      },
      "execution_count": 56,
      "outputs": []
    },
    {
      "cell_type": "markdown",
      "source": [
        "3)veriyi inceleme ve görselleştirme"
      ],
      "metadata": {
        "id": "99HzmG4B0fxx"
      }
    },
    {
      "cell_type": "code",
      "source": [
        "df.head()"
      ],
      "metadata": {
        "colab": {
          "base_uri": "https://localhost:8080/",
          "height": 206
        },
        "id": "yIwIOLHlyQa6",
        "outputId": "7a7c4e22-9708-4411-f1c3-21bdf7923478"
      },
      "execution_count": 57,
      "outputs": [
        {
          "output_type": "execute_result",
          "data": {
            "text/plain": [
              "   Hours  Scores\n",
              "0    2.5      21\n",
              "1    5.1      47\n",
              "2    3.2      27\n",
              "3    8.5      75\n",
              "4    3.5      30"
            ],
            "text/html": [
              "\n",
              "  <div id=\"df-d60ecb46-01d2-4887-9b82-3ecacfcfd51b\">\n",
              "    <div class=\"colab-df-container\">\n",
              "      <div>\n",
              "<style scoped>\n",
              "    .dataframe tbody tr th:only-of-type {\n",
              "        vertical-align: middle;\n",
              "    }\n",
              "\n",
              "    .dataframe tbody tr th {\n",
              "        vertical-align: top;\n",
              "    }\n",
              "\n",
              "    .dataframe thead th {\n",
              "        text-align: right;\n",
              "    }\n",
              "</style>\n",
              "<table border=\"1\" class=\"dataframe\">\n",
              "  <thead>\n",
              "    <tr style=\"text-align: right;\">\n",
              "      <th></th>\n",
              "      <th>Hours</th>\n",
              "      <th>Scores</th>\n",
              "    </tr>\n",
              "  </thead>\n",
              "  <tbody>\n",
              "    <tr>\n",
              "      <th>0</th>\n",
              "      <td>2.5</td>\n",
              "      <td>21</td>\n",
              "    </tr>\n",
              "    <tr>\n",
              "      <th>1</th>\n",
              "      <td>5.1</td>\n",
              "      <td>47</td>\n",
              "    </tr>\n",
              "    <tr>\n",
              "      <th>2</th>\n",
              "      <td>3.2</td>\n",
              "      <td>27</td>\n",
              "    </tr>\n",
              "    <tr>\n",
              "      <th>3</th>\n",
              "      <td>8.5</td>\n",
              "      <td>75</td>\n",
              "    </tr>\n",
              "    <tr>\n",
              "      <th>4</th>\n",
              "      <td>3.5</td>\n",
              "      <td>30</td>\n",
              "    </tr>\n",
              "  </tbody>\n",
              "</table>\n",
              "</div>\n",
              "      <button class=\"colab-df-convert\" onclick=\"convertToInteractive('df-d60ecb46-01d2-4887-9b82-3ecacfcfd51b')\"\n",
              "              title=\"Convert this dataframe to an interactive table.\"\n",
              "              style=\"display:none;\">\n",
              "        \n",
              "  <svg xmlns=\"http://www.w3.org/2000/svg\" height=\"24px\"viewBox=\"0 0 24 24\"\n",
              "       width=\"24px\">\n",
              "    <path d=\"M0 0h24v24H0V0z\" fill=\"none\"/>\n",
              "    <path d=\"M18.56 5.44l.94 2.06.94-2.06 2.06-.94-2.06-.94-.94-2.06-.94 2.06-2.06.94zm-11 1L8.5 8.5l.94-2.06 2.06-.94-2.06-.94L8.5 2.5l-.94 2.06-2.06.94zm10 10l.94 2.06.94-2.06 2.06-.94-2.06-.94-.94-2.06-.94 2.06-2.06.94z\"/><path d=\"M17.41 7.96l-1.37-1.37c-.4-.4-.92-.59-1.43-.59-.52 0-1.04.2-1.43.59L10.3 9.45l-7.72 7.72c-.78.78-.78 2.05 0 2.83L4 21.41c.39.39.9.59 1.41.59.51 0 1.02-.2 1.41-.59l7.78-7.78 2.81-2.81c.8-.78.8-2.07 0-2.86zM5.41 20L4 18.59l7.72-7.72 1.47 1.35L5.41 20z\"/>\n",
              "  </svg>\n",
              "      </button>\n",
              "      \n",
              "  <style>\n",
              "    .colab-df-container {\n",
              "      display:flex;\n",
              "      flex-wrap:wrap;\n",
              "      gap: 12px;\n",
              "    }\n",
              "\n",
              "    .colab-df-convert {\n",
              "      background-color: #E8F0FE;\n",
              "      border: none;\n",
              "      border-radius: 50%;\n",
              "      cursor: pointer;\n",
              "      display: none;\n",
              "      fill: #1967D2;\n",
              "      height: 32px;\n",
              "      padding: 0 0 0 0;\n",
              "      width: 32px;\n",
              "    }\n",
              "\n",
              "    .colab-df-convert:hover {\n",
              "      background-color: #E2EBFA;\n",
              "      box-shadow: 0px 1px 2px rgba(60, 64, 67, 0.3), 0px 1px 3px 1px rgba(60, 64, 67, 0.15);\n",
              "      fill: #174EA6;\n",
              "    }\n",
              "\n",
              "    [theme=dark] .colab-df-convert {\n",
              "      background-color: #3B4455;\n",
              "      fill: #D2E3FC;\n",
              "    }\n",
              "\n",
              "    [theme=dark] .colab-df-convert:hover {\n",
              "      background-color: #434B5C;\n",
              "      box-shadow: 0px 1px 3px 1px rgba(0, 0, 0, 0.15);\n",
              "      filter: drop-shadow(0px 1px 2px rgba(0, 0, 0, 0.3));\n",
              "      fill: #FFFFFF;\n",
              "    }\n",
              "  </style>\n",
              "\n",
              "      <script>\n",
              "        const buttonEl =\n",
              "          document.querySelector('#df-d60ecb46-01d2-4887-9b82-3ecacfcfd51b button.colab-df-convert');\n",
              "        buttonEl.style.display =\n",
              "          google.colab.kernel.accessAllowed ? 'block' : 'none';\n",
              "\n",
              "        async function convertToInteractive(key) {\n",
              "          const element = document.querySelector('#df-d60ecb46-01d2-4887-9b82-3ecacfcfd51b');\n",
              "          const dataTable =\n",
              "            await google.colab.kernel.invokeFunction('convertToInteractive',\n",
              "                                                     [key], {});\n",
              "          if (!dataTable) return;\n",
              "\n",
              "          const docLinkHtml = 'Like what you see? Visit the ' +\n",
              "            '<a target=\"_blank\" href=https://colab.research.google.com/notebooks/data_table.ipynb>data table notebook</a>'\n",
              "            + ' to learn more about interactive tables.';\n",
              "          element.innerHTML = '';\n",
              "          dataTable['output_type'] = 'display_data';\n",
              "          await google.colab.output.renderOutput(dataTable, element);\n",
              "          const docLink = document.createElement('div');\n",
              "          docLink.innerHTML = docLinkHtml;\n",
              "          element.appendChild(docLink);\n",
              "        }\n",
              "      </script>\n",
              "    </div>\n",
              "  </div>\n",
              "  "
            ]
          },
          "metadata": {},
          "execution_count": 57
        }
      ]
    },
    {
      "cell_type": "code",
      "source": [
        "df.shape"
      ],
      "metadata": {
        "colab": {
          "base_uri": "https://localhost:8080/"
        },
        "id": "l7MxaUSsyb79",
        "outputId": "532ae19d-d5d3-40a2-8afc-eb1c99e67fe6"
      },
      "execution_count": 58,
      "outputs": [
        {
          "output_type": "execute_result",
          "data": {
            "text/plain": [
              "(25, 2)"
            ]
          },
          "metadata": {},
          "execution_count": 58
        }
      ]
    },
    {
      "cell_type": "code",
      "source": [
        "df.info()"
      ],
      "metadata": {
        "colab": {
          "base_uri": "https://localhost:8080/"
        },
        "id": "ck393J3PyffN",
        "outputId": "6b5780b5-eca1-4fec-cc27-e9a0efb8c1dc"
      },
      "execution_count": 59,
      "outputs": [
        {
          "output_type": "stream",
          "name": "stdout",
          "text": [
            "<class 'pandas.core.frame.DataFrame'>\n",
            "RangeIndex: 25 entries, 0 to 24\n",
            "Data columns (total 2 columns):\n",
            " #   Column  Non-Null Count  Dtype  \n",
            "---  ------  --------------  -----  \n",
            " 0   Hours   25 non-null     float64\n",
            " 1   Scores  25 non-null     int64  \n",
            "dtypes: float64(1), int64(1)\n",
            "memory usage: 528.0 bytes\n"
          ]
        }
      ]
    },
    {
      "cell_type": "code",
      "source": [
        "import matplotlib.pyplot as plt"
      ],
      "metadata": {
        "id": "DgtWZKpyylH2"
      },
      "execution_count": 60,
      "outputs": []
    },
    {
      "cell_type": "code",
      "source": [
        "plt.scatter(x=df[\"Hours\"], y=df[\"Scores\"],color=\"green\")\n",
        "plt.xlabel(\"Hours\")\n",
        "plt.ylabel(\"Scores\")\n",
        "plt.show()"
      ],
      "metadata": {
        "colab": {
          "base_uri": "https://localhost:8080/",
          "height": 279
        },
        "id": "hRJVXPCGzrc7",
        "outputId": "880ea3bc-b089-4eb5-bca1-870b91e8ad01"
      },
      "execution_count": 61,
      "outputs": [
        {
          "output_type": "display_data",
          "data": {
            "text/plain": [
              "<Figure size 432x288 with 1 Axes>"
            ],
            "image/png": "[encoded data removed]"
          },
          "metadata": {
            "needs_background": "light"
          }
        }
      ]
    },
    {
      "cell_type": "markdown",
      "source": [
        "4)veriyi modele uygun hale getirmek"
      ],
      "metadata": {
        "id": "Pv8_9JA40ZrD"
      }
    },
    {
      "cell_type": "code",
      "source": [
        "X =df[\"Hours\"]\n",
        "Y = df[\"Scores\"]"
      ],
      "metadata": {
        "id": "JnDuZHeQz28H"
      },
      "execution_count": 62,
      "outputs": []
    },
    {
      "cell_type": "code",
      "source": [
        "print(X)"
      ],
      "metadata": {
        "colab": {
          "base_uri": "https://localhost:8080/"
        },
        "id": "FRFaVfmL0u4Q",
        "outputId": "3f126430-3e67-4b1e-9672-06938c081ed4"
      },
      "execution_count": 63,
      "outputs": [
        {
          "output_type": "stream",
          "name": "stdout",
          "text": [
            "0     2.5\n",
            "1     5.1\n",
            "2     3.2\n",
            "3     8.5\n",
            "4     3.5\n",
            "5     1.5\n",
            "6     9.2\n",
            "7     5.5\n",
            "8     8.3\n",
            "9     2.7\n",
            "10    7.7\n",
            "11    5.9\n",
            "12    4.5\n",
            "13    3.3\n",
            "14    1.1\n",
            "15    8.9\n",
            "16    2.5\n",
            "17    1.9\n",
            "18    6.1\n",
            "19    7.4\n",
            "20    2.7\n",
            "21    4.8\n",
            "22    3.8\n",
            "23    6.9\n",
            "24    7.8\n",
            "Name: Hours, dtype: float64\n"
          ]
        }
      ]
    },
    {
      "cell_type": "code",
      "source": [
        "print(Y)"
      ],
      "metadata": {
        "colab": {
          "base_uri": "https://localhost:8080/"
        },
        "id": "9EDQcMrB0w1T",
        "outputId": "d5d3bf4d-529f-40f8-b388-9f054c992e0e"
      },
      "execution_count": 64,
      "outputs": [
        {
          "output_type": "stream",
          "name": "stdout",
          "text": [
            "0     21\n",
            "1     47\n",
            "2     27\n",
            "3     75\n",
            "4     30\n",
            "5     20\n",
            "6     88\n",
            "7     60\n",
            "8     81\n",
            "9     25\n",
            "10    85\n",
            "11    62\n",
            "12    41\n",
            "13    42\n",
            "14    17\n",
            "15    95\n",
            "16    30\n",
            "17    24\n",
            "18    67\n",
            "19    69\n",
            "20    30\n",
            "21    54\n",
            "22    35\n",
            "23    76\n",
            "24    86\n",
            "Name: Scores, dtype: int64\n"
          ]
        }
      ]
    },
    {
      "cell_type": "code",
      "source": [
        "import sklearn.model_selection"
      ],
      "metadata": {
        "id": "GEW5ns6B0zHO"
      },
      "execution_count": 65,
      "outputs": []
    },
    {
      "cell_type": "code",
      "source": [
        "X_train,X_test,Y_train,Y_test= sklearn.model_selection.train_test_split(X,Y,train_size=0.8) #%80 lik veriyi train olarak alacak kalan kısmı test ve ona karşılık gelen Y labellarını alacak"
      ],
      "metadata": {
        "id": "TSzUsI1O03h7"
      },
      "execution_count": 66,
      "outputs": []
    },
    {
      "cell_type": "code",
      "source": [
        "print(X_train) #modelin daha iyi öğrenmesi için karıştırma yapılması gerekir"
      ],
      "metadata": {
        "colab": {
          "base_uri": "https://localhost:8080/"
        },
        "id": "wmyHgz1Z1XqQ",
        "outputId": "fa086f98-7138-46b4-9d49-50ae9bcb80a2"
      },
      "execution_count": 67,
      "outputs": [
        {
          "output_type": "stream",
          "name": "stdout",
          "text": [
            "4     3.5\n",
            "21    4.8\n",
            "20    2.7\n",
            "6     9.2\n",
            "5     1.5\n",
            "2     3.2\n",
            "9     2.7\n",
            "11    5.9\n",
            "22    3.8\n",
            "23    6.9\n",
            "17    1.9\n",
            "24    7.8\n",
            "10    7.7\n",
            "19    7.4\n",
            "16    2.5\n",
            "15    8.9\n",
            "13    3.3\n",
            "3     8.5\n",
            "8     8.3\n",
            "1     5.1\n",
            "Name: Hours, dtype: float64\n"
          ]
        }
      ]
    },
    {
      "cell_type": "code",
      "source": [
        "print(Y_train)"
      ],
      "metadata": {
        "colab": {
          "base_uri": "https://localhost:8080/"
        },
        "id": "IyqWBcyp1bbT",
        "outputId": "f5577e51-ebc4-4975-ba75-d79879ca19bc"
      },
      "execution_count": 68,
      "outputs": [
        {
          "output_type": "stream",
          "name": "stdout",
          "text": [
            "4     30\n",
            "21    54\n",
            "20    30\n",
            "6     88\n",
            "5     20\n",
            "2     27\n",
            "9     25\n",
            "11    62\n",
            "22    35\n",
            "23    76\n",
            "17    24\n",
            "24    86\n",
            "10    85\n",
            "19    69\n",
            "16    30\n",
            "15    95\n",
            "13    42\n",
            "3     75\n",
            "8     81\n",
            "1     47\n",
            "Name: Scores, dtype: int64\n"
          ]
        }
      ]
    },
    {
      "cell_type": "code",
      "source": [
        "print(X_test)"
      ],
      "metadata": {
        "colab": {
          "base_uri": "https://localhost:8080/"
        },
        "id": "MNgG4_BE1mZy",
        "outputId": "cbc15403-4504-4b68-e48e-979e3843f5af"
      },
      "execution_count": 69,
      "outputs": [
        {
          "output_type": "stream",
          "name": "stdout",
          "text": [
            "0     2.5\n",
            "12    4.5\n",
            "7     5.5\n",
            "18    6.1\n",
            "14    1.1\n",
            "Name: Hours, dtype: float64\n"
          ]
        }
      ]
    },
    {
      "cell_type": "code",
      "source": [
        "X_test.shape"
      ],
      "metadata": {
        "colab": {
          "base_uri": "https://localhost:8080/"
        },
        "id": "4kX6478G1wZ7",
        "outputId": "1bda5fe8-21a7-42e0-9e32-925f04e79b3c"
      },
      "execution_count": 70,
      "outputs": [
        {
          "output_type": "execute_result",
          "data": {
            "text/plain": [
              "(5,)"
            ]
          },
          "metadata": {},
          "execution_count": 70
        }
      ]
    },
    {
      "cell_type": "code",
      "source": [
        "import numpy as np\n",
        "X_train=np.array(X_train)\n",
        "Y_train=np.array(Y_train)\n",
        "X_test=np.array(X_test)\n",
        "Y_test=np.array(Y_test)"
      ],
      "metadata": {
        "id": "Z3ds0nYB3iWK"
      },
      "execution_count": 101,
      "outputs": []
    },
    {
      "cell_type": "code",
      "source": [
        "type(X_train)"
      ],
      "metadata": {
        "colab": {
          "base_uri": "https://localhost:8080/"
        },
        "id": "jKxZRfXq4SrK",
        "outputId": "3e4f0236-a854-4b17-b46c-f10026f625a9"
      },
      "execution_count": 102,
      "outputs": [
        {
          "output_type": "execute_result",
          "data": {
            "text/plain": [
              "numpy.ndarray"
            ]
          },
          "metadata": {},
          "execution_count": 102
        }
      ]
    },
    {
      "cell_type": "code",
      "source": [
        "X_test.shape"
      ],
      "metadata": {
        "colab": {
          "base_uri": "https://localhost:8080/"
        },
        "id": "w8X7kCR94VAm",
        "outputId": "f745f7ac-74f6-4f28-c6e8-5b2840503ffa"
      },
      "execution_count": 103,
      "outputs": [
        {
          "output_type": "execute_result",
          "data": {
            "text/plain": [
              "(5,)"
            ]
          },
          "metadata": {},
          "execution_count": 103
        }
      ]
    },
    {
      "cell_type": "code",
      "source": [
        "X_train=X_train.reshape(-1,1) #-1 otomatik tahmin yapar\n",
        "Y_train = Y_train.reshape(-1,1)\n",
        "X_test=X_test.reshape(-1,1)\n",
        "Y_test= Y_test.reshape(-1,1)"
      ],
      "metadata": {
        "id": "Dsrv2UVH4XBc"
      },
      "execution_count": 104,
      "outputs": []
    },
    {
      "cell_type": "code",
      "source": [
        "print(X_train.shape)"
      ],
      "metadata": {
        "colab": {
          "base_uri": "https://localhost:8080/"
        },
        "id": "DtRO2UzU4097",
        "outputId": "56d40d84-e8b7-4e51-8356-799dbbd3ac87"
      },
      "execution_count": 105,
      "outputs": [
        {
          "output_type": "stream",
          "name": "stdout",
          "text": [
            "(20, 1)\n"
          ]
        }
      ]
    },
    {
      "cell_type": "code",
      "source": [
        "print(Y_test.shape)"
      ],
      "metadata": {
        "colab": {
          "base_uri": "https://localhost:8080/"
        },
        "id": "sWi8k_hm48aE",
        "outputId": "ef6de1d1-1ce7-4e10-94de-ed320750a892"
      },
      "execution_count": 106,
      "outputs": [
        {
          "output_type": "stream",
          "name": "stdout",
          "text": [
            "(5, 1)\n"
          ]
        }
      ]
    },
    {
      "cell_type": "markdown",
      "source": [
        "\n",
        "5)model seçimi ve modelin eğitilmesi\n",
        "---\n",
        "\n"
      ],
      "metadata": {
        "id": "KPhbDJ0S3jSQ"
      }
    },
    {
      "cell_type": "code",
      "source": [
        "import sklearn.linear_model"
      ],
      "metadata": {
        "id": "vlkKXGX65ASs"
      },
      "execution_count": 107,
      "outputs": []
    },
    {
      "cell_type": "code",
      "source": [
        "lin_model=sklearn.linear_model.LinearRegression()"
      ],
      "metadata": {
        "id": "SJNJUFeF7AaS"
      },
      "execution_count": 108,
      "outputs": []
    },
    {
      "cell_type": "code",
      "source": [
        "lin_model.fit(X_train,Y_train)"
      ],
      "metadata": {
        "colab": {
          "base_uri": "https://localhost:8080/"
        },
        "id": "U27nM2sw7Jb7",
        "outputId": "a57903dd-6878-47e0-e8a5-c59c384c04ec"
      },
      "execution_count": 109,
      "outputs": [
        {
          "output_type": "execute_result",
          "data": {
            "text/plain": [
              "LinearRegression()"
            ]
          },
          "metadata": {},
          "execution_count": 109
        }
      ]
    },
    {
      "cell_type": "markdown",
      "source": [
        "6)modelin optimize edilmesi"
      ],
      "metadata": {
        "id": "ArCOCNJA8Z7S"
      }
    },
    {
      "cell_type": "code",
      "source": [
        "import sklearn.metrics"
      ],
      "metadata": {
        "id": "SQWTVp4s7n88"
      },
      "execution_count": 110,
      "outputs": []
    },
    {
      "cell_type": "code",
      "source": [
        "predictions=lin_model.predict(X_test)"
      ],
      "metadata": {
        "id": "u88J1mAC9gRd"
      },
      "execution_count": 111,
      "outputs": []
    },
    {
      "cell_type": "code",
      "source": [
        "X_test[0]"
      ],
      "metadata": {
        "colab": {
          "base_uri": "https://localhost:8080/"
        },
        "id": "AE6_tIfN9ll7",
        "outputId": "6235b033-b760-4acb-9f4f-e7728726672a"
      },
      "execution_count": 112,
      "outputs": [
        {
          "output_type": "execute_result",
          "data": {
            "text/plain": [
              "array([2.5])"
            ]
          },
          "metadata": {},
          "execution_count": 112
        }
      ]
    },
    {
      "cell_type": "code",
      "source": [
        "print(predictions)"
      ],
      "metadata": {
        "colab": {
          "base_uri": "https://localhost:8080/"
        },
        "id": "qC6TSRAn9xFF",
        "outputId": "30d8c3e7-fcce-456d-a76d-64bb16fa168b"
      },
      "execution_count": 113,
      "outputs": [
        {
          "output_type": "stream",
          "name": "stdout",
          "text": [
            "[[27.08643563]\n",
            " [46.48468338]\n",
            " [56.18380725]\n",
            " [62.00328158]\n",
            " [13.50766221]]\n"
          ]
        }
      ]
    },
    {
      "cell_type": "code",
      "source": [
        "for i in range(len(X_test)):\n",
        "  print(f\"{i}: Gerçek değer: {Y_test[i]}-Tahmin: {predictions[i]}\")"
      ],
      "metadata": {
        "colab": {
          "base_uri": "https://localhost:8080/"
        },
        "id": "VBYvpBdj9zlC",
        "outputId": "1081fa83-dd07-459f-cd5c-c09756b394ba"
      },
      "execution_count": 114,
      "outputs": [
        {
          "output_type": "stream",
          "name": "stdout",
          "text": [
            "0: Gerçek değer: [21]-Tahmin: [27.08643563]\n",
            "1: Gerçek değer: [41]-Tahmin: [46.48468338]\n",
            "2: Gerçek değer: [60]-Tahmin: [56.18380725]\n",
            "3: Gerçek değer: [67]-Tahmin: [62.00328158]\n",
            "4: Gerçek değer: [17]-Tahmin: [13.50766221]\n"
          ]
        }
      ]
    },
    {
      "cell_type": "code",
      "source": [
        "#MSE - MAE"
      ],
      "metadata": {
        "id": "MF3PWSIz-UWu"
      },
      "execution_count": 115,
      "outputs": []
    },
    {
      "cell_type": "code",
      "source": [
        "R2=sklearn.metrics.r2_score(Y_test,predictions)\n",
        "mae = sklearn.metrics.mean_absolute_error(Y_test, predictions)\n",
        "mse = sklearn.metrics.mean_squared_error(Y_test,predictions)"
      ],
      "metadata": {
        "id": "SdRNb5GV-r1Y"
      },
      "execution_count": 117,
      "outputs": []
    },
    {
      "cell_type": "code",
      "source": [
        "print(f\"R2:{R2}\")\n",
        "print(f\"MAE:{mae}\")\n",
        "print(f\"mse:{mse}\")\n"
      ],
      "metadata": {
        "colab": {
          "base_uri": "https://localhost:8080/"
        },
        "id": "zGj1I0iu--Vr",
        "outputId": "2c0df875-62f6-4e75-fa77-812a6db63d35"
      },
      "execution_count": 118,
      "outputs": [
        {
          "output_type": "stream",
          "name": "stdout",
          "text": [
            "R2:0.9409512143274833\n",
            "MAE:4.7752735946122895\n",
            "mse:23.770679160328335\n"
          ]
        }
      ]
    },
    {
      "cell_type": "code",
      "source": [
        "score_predic=lin_model.predict([[5]])"
      ],
      "metadata": {
        "id": "UzgVlUqp_Wz7"
      },
      "execution_count": 120,
      "outputs": []
    },
    {
      "cell_type": "code",
      "source": [
        "print(score_predic)"
      ],
      "metadata": {
        "colab": {
          "base_uri": "https://localhost:8080/"
        },
        "id": "822s1ns8_hvT",
        "outputId": "7ebd1671-0785-4dc1-88ac-b6ec7036973a"
      },
      "execution_count": 121,
      "outputs": [
        {
          "output_type": "stream",
          "name": "stdout",
          "text": [
            "[[51.33424532]]\n"
          ]
        }
      ]
    },
    {
      "cell_type": "code",
      "source": [
        "X_predictions=lin_model.predict(X_train)\n",
        "\n",
        "plt.scatter(x=df[\"Hours\"], y=df[\"Scores\"],color=\"green\")\n",
        "plt.plot(X_train,X_predictions)\n",
        "\n",
        "plt.scatter(x=5,y=lin_model.predict([[6]]),color=\"red\")\n",
        "plt.xlabel(\"Hours\")\n",
        "plt.ylabel(\"Scores\")\n",
        "plt.show()"
      ],
      "metadata": {
        "colab": {
          "base_uri": "https://localhost:8080/",
          "height": 279
        },
        "id": "U438RRoT_ukj",
        "outputId": "ccd2d43c-ee59-4ca1-91d1-432cc227b43f"
      },
      "execution_count": 126,
      "outputs": [
        {
          "output_type": "display_data",
          "data": {
            "text/plain": [
              "<Figure size 432x288 with 1 Axes>"
            ],
            "image/png": "[encoded data removed]"
          },
          "metadata": {
            "needs_background": "light"
          }
        }
      ]
    },
    {
      "cell_type": "code",
      "source": [],
      "metadata": {
        "id": "C-j2b22Q_7YR"
      },
      "execution_count": null,
      "outputs": []
    }
  ]
}